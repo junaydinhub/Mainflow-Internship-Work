{
 "cells": [
  {
   "cell_type": "code",
   "execution_count": 4,
   "id": "d548f717-1259-4bbb-aed2-6f1646844fdc",
   "metadata": {
    "collapsed": true,
    "jupyter": {
     "outputs_hidden": true,
     "source_hidden": true
    }
   },
   "outputs": [
    {
     "data": {
      "text/html": [
       "<div>\n",
       "<style scoped>\n",
       "    .dataframe tbody tr th:only-of-type {\n",
       "        vertical-align: middle;\n",
       "    }\n",
       "\n",
       "    .dataframe tbody tr th {\n",
       "        vertical-align: top;\n",
       "    }\n",
       "\n",
       "    .dataframe thead th {\n",
       "        text-align: right;\n",
       "    }\n",
       "</style>\n",
       "<table border=\"1\" class=\"dataframe\">\n",
       "  <thead>\n",
       "    <tr style=\"text-align: right;\">\n",
       "      <th></th>\n",
       "      <th>Customer ID</th>\n",
       "      <th>Age</th>\n",
       "      <th>Annual Income (k$)</th>\n",
       "      <th>Spending Score (1-100)</th>\n",
       "    </tr>\n",
       "  </thead>\n",
       "  <tbody>\n",
       "    <tr>\n",
       "      <th>0</th>\n",
       "      <td>1</td>\n",
       "      <td>19</td>\n",
       "      <td>15</td>\n",
       "      <td>39</td>\n",
       "    </tr>\n",
       "    <tr>\n",
       "      <th>1</th>\n",
       "      <td>2</td>\n",
       "      <td>21</td>\n",
       "      <td>16</td>\n",
       "      <td>81</td>\n",
       "    </tr>\n",
       "    <tr>\n",
       "      <th>2</th>\n",
       "      <td>3</td>\n",
       "      <td>20</td>\n",
       "      <td>17</td>\n",
       "      <td>6</td>\n",
       "    </tr>\n",
       "    <tr>\n",
       "      <th>3</th>\n",
       "      <td>4</td>\n",
       "      <td>23</td>\n",
       "      <td>18</td>\n",
       "      <td>77</td>\n",
       "    </tr>\n",
       "    <tr>\n",
       "      <th>4</th>\n",
       "      <td>5</td>\n",
       "      <td>31</td>\n",
       "      <td>30</td>\n",
       "      <td>40</td>\n",
       "    </tr>\n",
       "  </tbody>\n",
       "</table>\n",
       "</div>"
      ],
      "text/plain": [
       "   Customer ID  Age  Annual Income (k$)  Spending Score (1-100)\n",
       "0            1   19                  15                      39\n",
       "1            2   21                  16                      81\n",
       "2            3   20                  17                       6\n",
       "3            4   23                  18                      77\n",
       "4            5   31                  30                      40"
      ]
     },
     "execution_count": 4,
     "metadata": {},
     "output_type": "execute_result"
    }
   ],
   "source": [
    "import pandas as pd\n",
    "\n",
    "df = pd.read_csv(\"C:/Users/DELL/OneDrive/Desktop/Academics/3rd Year/5th Sem/Academic Related Docs/Junaid's Intership Tasks/Task 03/customer_data.csv\")\n",
    "\n",
    "df.head()\n"
   ]
  },
  {
   "cell_type": "code",
   "execution_count": 6,
   "id": "5902c5b7-7deb-4686-99df-fa9702867316",
   "metadata": {
    "collapsed": true,
    "jupyter": {
     "outputs_hidden": true,
     "source_hidden": true
    }
   },
   "outputs": [
    {
     "name": "stdout",
     "output_type": "stream",
     "text": [
      "Shape of dataset: (10, 4)\n",
      "\n",
      "Data types:\n",
      "Customer ID               int64\n",
      "Age                       int64\n",
      "Annual Income (k$)        int64\n",
      "Spending Score (1-100)    int64\n",
      "dtype: object\n",
      "\n",
      "Missing values:\n",
      "Customer ID               0\n",
      "Age                       0\n",
      "Annual Income (k$)        0\n",
      "Spending Score (1-100)    0\n",
      "dtype: int64\n",
      "\n",
      "Duplicate rows: 0\n",
      "\n",
      "Summary stats:\n",
      "       Customer ID        Age  Annual Income (k$)  Spending Score (1-100)\n",
      "count     10.00000  10.000000            10.00000               10.000000\n",
      "mean       5.50000  27.400000            30.80000               49.400000\n",
      "std        3.02765   8.382521            16.47085               35.094159\n",
      "min        1.00000  19.000000            15.00000                3.000000\n",
      "25%        3.25000  21.250000            17.25000               14.250000\n",
      "50%        5.50000  24.000000            26.00000               56.000000\n",
      "75%        7.75000  32.500000            38.75000               76.750000\n",
      "max       10.00000  45.000000            60.00000               94.000000\n"
     ]
    }
   ],
   "source": [
    "\n",
    "print(\"Shape of dataset:\", df.shape)\n",
    "\n",
    "print(\"\\nData types:\")\n",
    "print(df.dtypes)\n",
    "\n",
    "print(\"\\nMissing values:\")\n",
    "print(df.isnull().sum())\n",
    "\n",
    "print(\"\\nDuplicate rows:\", df.duplicated().sum())\n",
    "\n",
    "print(\"\\nSummary stats:\")\n",
    "print(df.describe())\n"
   ]
  },
  {
   "cell_type": "markdown",
   "id": "33ff33aa-57a5-4a92-82db-e9989604e488",
   "metadata": {
    "jupyter": {
     "source_hidden": true
    }
   },
   "source": [
    "### Step 01: Load and Explore Dataset\n",
    "\n",
    "In this step, I loaded the `customer_data.csv` file using pandas and checked the basic details:\n",
    "- Verified the dataset shape and column names\n",
    "- Confirmed there were no missing or duplicate rows\n",
    "- Got a sense of the range for age, income, and spending score\n",
    "\n",
    "This step helps ensure the data is clean and ready for clustering.\n"
   ]
  },
  {
   "cell_type": "code",
   "execution_count": 7,
   "id": "b7652055-7f08-42e8-b202-1ca4d0aa2c0f",
   "metadata": {
    "collapsed": true,
    "jupyter": {
     "outputs_hidden": true,
     "source_hidden": true
    }
   },
   "outputs": [
    {
     "data": {
      "text/html": [
       "<div>\n",
       "<style scoped>\n",
       "    .dataframe tbody tr th:only-of-type {\n",
       "        vertical-align: middle;\n",
       "    }\n",
       "\n",
       "    .dataframe tbody tr th {\n",
       "        vertical-align: top;\n",
       "    }\n",
       "\n",
       "    .dataframe thead th {\n",
       "        text-align: right;\n",
       "    }\n",
       "</style>\n",
       "<table border=\"1\" class=\"dataframe\">\n",
       "  <thead>\n",
       "    <tr style=\"text-align: right;\">\n",
       "      <th></th>\n",
       "      <th>Age</th>\n",
       "      <th>Annual Income (k$)</th>\n",
       "      <th>Spending Score (1-100)</th>\n",
       "    </tr>\n",
       "  </thead>\n",
       "  <tbody>\n",
       "    <tr>\n",
       "      <th>0</th>\n",
       "      <td>-1.056290</td>\n",
       "      <td>-1.011160</td>\n",
       "      <td>-0.312376</td>\n",
       "    </tr>\n",
       "    <tr>\n",
       "      <th>1</th>\n",
       "      <td>-0.804793</td>\n",
       "      <td>-0.947162</td>\n",
       "      <td>0.949142</td>\n",
       "    </tr>\n",
       "    <tr>\n",
       "      <th>2</th>\n",
       "      <td>-0.930542</td>\n",
       "      <td>-0.883165</td>\n",
       "      <td>-1.303568</td>\n",
       "    </tr>\n",
       "    <tr>\n",
       "      <th>3</th>\n",
       "      <td>-0.553295</td>\n",
       "      <td>-0.819167</td>\n",
       "      <td>0.828997</td>\n",
       "    </tr>\n",
       "    <tr>\n",
       "      <th>4</th>\n",
       "      <td>0.452696</td>\n",
       "      <td>-0.051198</td>\n",
       "      <td>-0.282340</td>\n",
       "    </tr>\n",
       "  </tbody>\n",
       "</table>\n",
       "</div>"
      ],
      "text/plain": [
       "        Age  Annual Income (k$)  Spending Score (1-100)\n",
       "0 -1.056290           -1.011160               -0.312376\n",
       "1 -0.804793           -0.947162                0.949142\n",
       "2 -0.930542           -0.883165               -1.303568\n",
       "3 -0.553295           -0.819167                0.828997\n",
       "4  0.452696           -0.051198               -0.282340"
      ]
     },
     "execution_count": 7,
     "metadata": {},
     "output_type": "execute_result"
    }
   ],
   "source": [
    "from sklearn.preprocessing import StandardScaler\n",
    "\n",
    "features = df[['Age', 'Annual Income (k$)', 'Spending Score (1-100)']]\n",
    "\n",
    "scaler = StandardScaler()\n",
    "\n",
    "scaled_features = scaler.fit_transform(features)\n",
    "\n",
    "scaled_df = pd.DataFrame(scaled_features, columns=features.columns)\n",
    "\n",
    "scaled_df.head()\n"
   ]
  },
  {
   "cell_type": "markdown",
   "id": "016363d6-59d7-4478-b264-54be63dde854",
   "metadata": {
    "jupyter": {
     "source_hidden": true
    }
   },
   "source": [
    "### Step 02: Standardize the Data\n",
    "\n",
    "I standardized the numerical features using `StandardScaler` so that each one has equal importance during clustering.\n",
    "\n",
    "This avoids biasing the algorithm toward higher-value features like income.\n"
   ]
  },
  {
   "cell_type": "code",
   "execution_count": 11,
   "id": "54edc93b-7702-4b90-b758-30e4cca9c550",
   "metadata": {
    "collapsed": true,
    "jupyter": {
     "outputs_hidden": true,
     "source_hidden": true
    },
    "scrolled": true
   },
   "outputs": [
    {
     "name": "stderr",
     "output_type": "stream",
     "text": [
      "C:\\Users\\DELL\\anaconda3\\Lib\\site-packages\\sklearn\\cluster\\_kmeans.py:1429: UserWarning: KMeans is known to have a memory leak on Windows with MKL, when there are less chunks than available threads. You can avoid it by setting the environment variable OMP_NUM_THREADS=1.\n",
      "  warnings.warn(\n",
      "C:\\Users\\DELL\\anaconda3\\Lib\\site-packages\\sklearn\\cluster\\_kmeans.py:1429: UserWarning: KMeans is known to have a memory leak on Windows with MKL, when there are less chunks than available threads. You can avoid it by setting the environment variable OMP_NUM_THREADS=1.\n",
      "  warnings.warn(\n",
      "C:\\Users\\DELL\\anaconda3\\Lib\\site-packages\\sklearn\\cluster\\_kmeans.py:1429: UserWarning: KMeans is known to have a memory leak on Windows with MKL, when there are less chunks than available threads. You can avoid it by setting the environment variable OMP_NUM_THREADS=1.\n",
      "  warnings.warn(\n",
      "C:\\Users\\DELL\\anaconda3\\Lib\\site-packages\\sklearn\\cluster\\_kmeans.py:1429: UserWarning: KMeans is known to have a memory leak on Windows with MKL, when there are less chunks than available threads. You can avoid it by setting the environment variable OMP_NUM_THREADS=1.\n",
      "  warnings.warn(\n",
      "C:\\Users\\DELL\\anaconda3\\Lib\\site-packages\\sklearn\\cluster\\_kmeans.py:1429: UserWarning: KMeans is known to have a memory leak on Windows with MKL, when there are less chunks than available threads. You can avoid it by setting the environment variable OMP_NUM_THREADS=1.\n",
      "  warnings.warn(\n",
      "C:\\Users\\DELL\\anaconda3\\Lib\\site-packages\\sklearn\\cluster\\_kmeans.py:1429: UserWarning: KMeans is known to have a memory leak on Windows with MKL, when there are less chunks than available threads. You can avoid it by setting the environment variable OMP_NUM_THREADS=1.\n",
      "  warnings.warn(\n",
      "C:\\Users\\DELL\\anaconda3\\Lib\\site-packages\\sklearn\\cluster\\_kmeans.py:1429: UserWarning: KMeans is known to have a memory leak on Windows with MKL, when there are less chunks than available threads. You can avoid it by setting the environment variable OMP_NUM_THREADS=1.\n",
      "  warnings.warn(\n",
      "C:\\Users\\DELL\\anaconda3\\Lib\\site-packages\\sklearn\\cluster\\_kmeans.py:1429: UserWarning: KMeans is known to have a memory leak on Windows with MKL, when there are less chunks than available threads. You can avoid it by setting the environment variable OMP_NUM_THREADS=1.\n",
      "  warnings.warn(\n",
      "C:\\Users\\DELL\\anaconda3\\Lib\\site-packages\\sklearn\\cluster\\_kmeans.py:1429: UserWarning: KMeans is known to have a memory leak on Windows with MKL, when there are less chunks than available threads. You can avoid it by setting the environment variable OMP_NUM_THREADS=1.\n",
      "  warnings.warn(\n",
      "C:\\Users\\DELL\\anaconda3\\Lib\\site-packages\\sklearn\\cluster\\_kmeans.py:1429: UserWarning: KMeans is known to have a memory leak on Windows with MKL, when there are less chunks than available threads. You can avoid it by setting the environment variable OMP_NUM_THREADS=1.\n",
      "  warnings.warn(\n"
     ]
    },
    {
     "data": {
      "image/png": "[encoded data removed]",
      "text/plain": [
       "<Figure size 800x500 with 1 Axes>"
      ]
     },
     "metadata": {},
     "output_type": "display_data"
    }
   ],
   "source": [
    "from sklearn.cluster import KMeans\n",
    "import matplotlib.pyplot as plt\n",
    "\n",
    "inertia = []\n",
    "k_range = range(1, 11)\n",
    "\n",
    "for k in k_range:\n",
    "    model = KMeans(n_clusters=k, random_state=42)\n",
    "    model.fit(scaled_df)\n",
    "    inertia.append(model.inertia_)\n",
    "\n",
    "plt.figure(figsize=(8, 5))\n",
    "plt.plot(k_range, inertia, marker='o')\n",
    "plt.title(\"Elbow Method - Optimal Number of Clusters\")\n",
    "plt.xlabel(\"Number of Clusters (k)\")\n",
    "plt.ylabel(\"Inertia (Within-Cluster Sum of Squares)\")\n",
    "plt.grid(True)\n",
    "plt.show()"
   ]
  },
  {
   "cell_type": "markdown",
   "id": "36ae7ec6-968b-48c1-9701-e585728cb7b1",
   "metadata": {
    "jupyter": {
     "source_hidden": true
    }
   },
   "source": [
    "### Step 03: Find Optimal Clusters using Elbow Method\n",
    "\n",
    "I used the Elbow Method to determine the best number of clusters (k) for customer segmentation.\n",
    "\n",
    "It works by plotting the model’s inertia (how tightly points are grouped) for different values of k.\n",
    "\n",
    "The “elbow point” shows the best trade-off between accuracy and simplicity.\n"
   ]
  },
  {
   "cell_type": "code",
   "execution_count": 9,
   "id": "517a1894-e088-40db-ae35-133e1241f1b0",
   "metadata": {
    "collapsed": true,
    "jupyter": {
     "outputs_hidden": true,
     "source_hidden": true
    }
   },
   "outputs": [
    {
     "name": "stderr",
     "output_type": "stream",
     "text": [
      "C:\\Users\\DELL\\anaconda3\\Lib\\site-packages\\sklearn\\cluster\\_kmeans.py:1429: UserWarning: KMeans is known to have a memory leak on Windows with MKL, when there are less chunks than available threads. You can avoid it by setting the environment variable OMP_NUM_THREADS=1.\n",
      "  warnings.warn(\n"
     ]
    },
    {
     "data": {
      "image/png": "[encoded data removed]",
      "text/plain": [
       "<Figure size 800x500 with 1 Axes>"
      ]
     },
     "metadata": {},
     "output_type": "display_data"
    }
   ],
   "source": [
    "kmeans = KMeans(n_clusters=4, random_state=42)\n",
    "cluster_labels = kmeans.fit_predict(scaled_df)\n",
    "\n",
    "df['Cluster'] = cluster_labels\n",
    "\n",
    "plt.figure(figsize=(8, 5))\n",
    "plt.scatter(scaled_df['Annual Income (k$)'], scaled_df['Spending Score (1-100)'],\n",
    "            c=cluster_labels, cmap='viridis', s=100, edgecolor='black')\n",
    "plt.title(\"Customer Segments (Clusters)\")\n",
    "plt.xlabel(\"Annual Income (scaled)\")\n",
    "plt.ylabel(\"Spending Score (scaled)\")\n",
    "plt.grid(True)\n",
    "plt.show()\n"
   ]
  },
  {
   "cell_type": "markdown",
   "id": "8a7e95ab-651e-4106-80c9-159e1461ca6c",
   "metadata": {
    "jupyter": {
     "source_hidden": true
    }
   },
   "source": [
    "### Step 04: Apply KMeans Clustering\n",
    "\n",
    "I used KMeans to divide customers into 4 distinct clusters.\n",
    "\n",
    "Each dot in the scatter plot represents a customer, colored by their group. This helps in spotting patterns in spending and income behavior.\n"
   ]
  },
  {
   "cell_type": "code",
   "execution_count": 10,
   "id": "61071c5c-35e6-45f9-a7d8-34c3049558c9",
   "metadata": {
    "collapsed": true,
    "jupyter": {
     "outputs_hidden": true,
     "source_hidden": true
    },
    "scrolled": true
   },
   "outputs": [
    {
     "name": "stdout",
     "output_type": "stream",
     "text": [
      "Average characteristics per cluster:\n",
      "\n",
      "          Age  Annual Income (k$)  Spending Score (1-100)\n",
      "Cluster                                                  \n",
      "0        24.4                25.2                    69.2\n",
      "1        34.0                45.0                     4.5\n",
      "2        19.5                16.0                    22.5\n",
      "3        45.0                60.0                    94.0\n"
     ]
    }
   ],
   "source": [
    "cluster_summary = df.groupby('Cluster')[['Age', 'Annual Income (k$)', 'Spending Score (1-100)']].mean()\n",
    "print(\"Average characteristics per cluster:\\n\")\n",
    "print(cluster_summary)\n"
   ]
  },
  {
   "cell_type": "markdown",
   "id": "bb377b10-525b-4d3a-8fdf-82b5af368994",
   "metadata": {
    "jp-MarkdownHeadingCollapsed": true,
    "jupyter": {
     "source_hidden": true
    }
   },
   "source": [
    "### Step 05: Analyze and Interpret the Clusters\n",
    "\n",
    "I calculated the average values for each cluster to understand them better.\n",
    "\n",
    "This helped me see which customer groups are high-income, high-spenders, or budget-conscious. It gives a real-world meaning to each cluster and helps businesses target them better.\n"
   ]
  },
  {
   "cell_type": "markdown",
   "id": "4638d179-220a-442e-ae3e-06b0432628ba",
   "metadata": {},
   "source": [
    "### Step 06: Summary and Conclusion\n",
    "\n",
    "In this task, I performed customer segmentation using KMeans clustering.\n",
    "\n",
    "Here’s what I did:\n",
    "\n",
    "- Loaded and cleaned the dataset\n",
    "- Scaled features like Age, Income, and Spending Score\n",
    "- Used the Elbow Method to find the best number of clusters\n",
    "- Applied KMeans to segment customers\n",
    "- Analyzed each cluster to understand customer behavior\n",
    "\n",
    "This kind of analysis can help businesses personalize marketing and improve customer experience.\n"
   ]
  },
  {
   "cell_type": "code",
   "execution_count": null,
   "id": "08a62096-387b-48ef-9323-cac865bb779c",
   "metadata": {},
   "outputs": [],
   "source": []
  }
 ],
 "metadata": {
  "kernelspec": {
   "display_name": "Python [conda env:base] *",
   "language": "python",
   "name": "conda-base-py"
  },
  "language_info": {
   "codemirror_mode": {
    "name": "ipython",
    "version": 3
   },
   "file_extension": ".py",
   "mimetype": "text/x-python",
   "name": "python",
   "nbconvert_exporter": "python",
   "pygments_lexer": "ipython3",
   "version": "3.12.7"
  }
 },
 "nbformat": 4,
 "nbformat_minor": 5
}
